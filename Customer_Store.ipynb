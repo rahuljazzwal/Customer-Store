{
 "cells": [
  {
   "cell_type": "code",
   "execution_count": 29,
   "metadata": {},
   "outputs": [
    {
     "name": "stdout",
     "output_type": "stream",
     "text": [
      " Customer Name :- Rahul Kumar \n",
      " Store Name :- raja store \n",
      " Grocery Name :- {'rava': 40, 'yogurt': 50, 'milk': 60, 'ghee': 450, 'oil': 153} \n",
      " Total Price :- Rs 753\n"
     ]
    }
   ],
   "source": [
    "import pandas as pd\n",
    "import ast\n",
    "class Customer():\n",
    "    def __init__(self):\n",
    "        self.customer_name = input(\"Enter Customer Name :-\") \n",
    "        self.store_name = input(\"Enter Store Name :-\")\n",
    "        self.data = pd.read_csv(\"store_list.csv\") # reading csv file data\n",
    "        \n",
    "    def payment(self):\n",
    "        index = list(self.data[\"Name\"]).index(self.store_name) #finding the index value of store\n",
    "        Grocery = data[data[\"Name\"] == self.store_name][\"Grocery\"] #fetching particular store grocery items\n",
    "        Grocery = ast.literal_eval(Grocery[index])  #Convert into Dict\n",
    "        Price = sum(Grocery.values()) #total price of all grocery items price\n",
    "\n",
    "        print(f\" Customer Name :- {self.customer_name} \\n Store Name :- {self.store_name} \\n Grocery Name :- {Grocery} \\n Total Price :- Rs {Price}\") \n",
    "\n",
    "    def buy(self):\n",
    "        try:            \n",
    "            if (list(self.data[\"Name\"]).index(self.store_name)) != 0: #checking whether that store is available or not\n",
    "                self.payment()\n",
    "        except:\n",
    "            raise Exception(\"Store Name Not Found\")\n",
    "obj = Customer()\n",
    "obj.buy()\n",
    "            "
   ]
  },
  {
   "cell_type": "code",
   "execution_count": null,
   "metadata": {},
   "outputs": [],
   "source": []
  }
 ],
 "metadata": {
  "interpreter": {
   "hash": "ee7adb276800c5dcc5f42958d66e023173580fd742c4edcd1c07cb6342d76dce"
  },
  "kernelspec": {
   "display_name": "Python 3.10.2 64-bit",
   "language": "python",
   "name": "python3"
  },
  "language_info": {
   "codemirror_mode": {
    "name": "ipython",
    "version": 3
   },
   "file_extension": ".py",
   "mimetype": "text/x-python",
   "name": "python",
   "nbconvert_exporter": "python",
   "pygments_lexer": "ipython3",
   "version": "3.9.0"
  },
  "orig_nbformat": 4
 },
 "nbformat": 4,
 "nbformat_minor": 2
}
